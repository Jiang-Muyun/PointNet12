{
 "cells": [
  {
   "cell_type": "code",
   "execution_count": 1,
   "metadata": {},
   "outputs": [
    {
     "name": "stdout",
     "output_type": "stream",
     "text": [
      "\u001b[93mjob\u001b[0m: \u001b[92mclf\u001b[0m \u001b[93mmodel_name\u001b[0m: \u001b[92mpointnet\u001b[0m \n",
      "\u001b[93mpretrain\u001b[0m: \u001b[92mexperiment/weights/clf-pointnet-0.89730-0076.pth\u001b[0m \n",
      "\u001b[93mbatch_size\u001b[0m: \u001b[92m16\u001b[0m \u001b[93mgpu_count\u001b[0m: \u001b[92m1\u001b[0m \n",
      "\u001b[90mBuilding Model\u001b[0m \u001b[90mpointnet\u001b[0m \n",
      "\u001b[90mLoading pretrain model...\u001b[0m \n"
     ]
    }
   ],
   "source": [
    "import open3d\n",
    "import argparse\n",
    "import sys\n",
    "sys.path.append('.')\n",
    "import os\n",
    "import time\n",
    "import h5py\n",
    "import datetime\n",
    "import numpy as np\n",
    "from matplotlib import pyplot as plt\n",
    "import torch\n",
    "import torch.nn.parallel\n",
    "import torch.utils.data\n",
    "from torch.utils.data import DataLoader\n",
    "import torch.nn.functional as F\n",
    "from data_utils.ModelNetDataLoader import ModelNetDataLoader, load_data, class_names\n",
    "from pathlib import Path\n",
    "from tqdm import tqdm\n",
    "from utils import test, save_checkpoint, select_avaliable, mkdir\n",
    "import log\n",
    "from model.pointnet2 import PointNet2ClsMsg\n",
    "from model.pointnet import PointNetCls, feature_transform_reguliarzer\n",
    "import colorsys\n",
    "from clf import parse_args, root\n",
    "from adv.chamfer import chamfer_batch\n",
    "\n",
    "args = parse_args([])\n",
    "args.pretrain = 'experiment/weights/clf-pointnet-0.89730-0076.pth'\n",
    "args.batch_size = 8\n",
    "test_data, test_label = load_data(root, train = False)\n",
    "testDataset = ModelNetDataLoader(test_data, test_label)\n",
    "testDataLoader = torch.utils.data.DataLoader(testDataset, batch_size=args.batch_size, shuffle=False)\n",
    "\n",
    "log.debug('Building Model',args.model_name)\n",
    "if args.model_name == 'pointnet':\n",
    "    num_class = 40\n",
    "    model = PointNetCls(num_class,args.feature_transform).cuda()  \n",
    "else:\n",
    "    model = PointNet2ClsMsg().cuda()\n",
    "\n",
    "if args.pretrain is None:\n",
    "    log.err('No pretrain model')\n",
    "else:\n",
    "    log.debug('Loading pretrain model...')\n",
    "    checkpoint = torch.load(args.pretrain)\n",
    "    model.load_state_dict(checkpoint)\n",
    "    model.eval()"
   ]
  },
  {
   "cell_type": "code",
   "execution_count": 3,
   "metadata": {},
   "outputs": [
    {
     "name": "stdout",
     "output_type": "stream",
     "text": [
      "\u001b[92m0.00000\u001b[0m \u001b[93mnot_org_label\u001b[0m: \u001b[92m1.0\u001b[0m \u001b[93mchamfer\u001b[0m: \u001b[92m0.0\u001b[0m \n",
      "\u001b[92m0.00526\u001b[0m \u001b[93mnot_org_label\u001b[0m: \u001b[92m0.875\u001b[0m \u001b[93mchamfer\u001b[0m: \u001b[92m6.1631727\u001b[0m \n",
      "\u001b[92m0.01053\u001b[0m \u001b[93mnot_org_label\u001b[0m: \u001b[92m0.625\u001b[0m \u001b[93mchamfer\u001b[0m: \u001b[92m12.032362\u001b[0m \n",
      "\u001b[92m0.01579\u001b[0m \u001b[93mnot_org_label\u001b[0m: \u001b[92m0.625\u001b[0m \u001b[93mchamfer\u001b[0m: \u001b[92m16.966932\u001b[0m \n",
      "\u001b[92m0.02105\u001b[0m \u001b[93mnot_org_label\u001b[0m: \u001b[92m0.625\u001b[0m \u001b[93mchamfer\u001b[0m: \u001b[92m20.560429\u001b[0m \n",
      "\u001b[92m0.02632\u001b[0m \u001b[93mnot_org_label\u001b[0m: \u001b[92m0.625\u001b[0m \u001b[93mchamfer\u001b[0m: \u001b[92m23.336508\u001b[0m \n",
      "\u001b[92m0.03158\u001b[0m \u001b[93mnot_org_label\u001b[0m: \u001b[92m0.625\u001b[0m \u001b[93mchamfer\u001b[0m: \u001b[92m25.889557\u001b[0m \n",
      "\u001b[92m0.03684\u001b[0m \u001b[93mnot_org_label\u001b[0m: \u001b[92m0.625\u001b[0m \u001b[93mchamfer\u001b[0m: \u001b[92m28.534967\u001b[0m \n",
      "\u001b[92m0.04211\u001b[0m \u001b[93mnot_org_label\u001b[0m: \u001b[92m0.625\u001b[0m \u001b[93mchamfer\u001b[0m: \u001b[92m31.30495\u001b[0m \n",
      "\u001b[92m0.04737\u001b[0m \u001b[93mnot_org_label\u001b[0m: \u001b[92m0.625\u001b[0m \u001b[93mchamfer\u001b[0m: \u001b[92m34.115204\u001b[0m \n",
      "\u001b[92m0.05263\u001b[0m \u001b[93mnot_org_label\u001b[0m: \u001b[92m0.625\u001b[0m \u001b[93mchamfer\u001b[0m: \u001b[92m36.873405\u001b[0m \n",
      "\u001b[92m0.05789\u001b[0m \u001b[93mnot_org_label\u001b[0m: \u001b[92m0.875\u001b[0m \u001b[93mchamfer\u001b[0m: \u001b[92m39.57132\u001b[0m \n",
      "\u001b[92m0.06316\u001b[0m \u001b[93mnot_org_label\u001b[0m: \u001b[92m0.875\u001b[0m \u001b[93mchamfer\u001b[0m: \u001b[92m42.243492\u001b[0m \n",
      "\u001b[92m0.06842\u001b[0m \u001b[93mnot_org_label\u001b[0m: \u001b[92m0.875\u001b[0m \u001b[93mchamfer\u001b[0m: \u001b[92m44.895683\u001b[0m \n",
      "\u001b[92m0.07368\u001b[0m \u001b[93mnot_org_label\u001b[0m: \u001b[92m0.875\u001b[0m \u001b[93mchamfer\u001b[0m: \u001b[92m47.56867\u001b[0m \n",
      "\u001b[92m0.07895\u001b[0m \u001b[93mnot_org_label\u001b[0m: \u001b[92m0.875\u001b[0m \u001b[93mchamfer\u001b[0m: \u001b[92m50.247284\u001b[0m \n",
      "\u001b[92m0.08421\u001b[0m \u001b[93mnot_org_label\u001b[0m: \u001b[92m0.875\u001b[0m \u001b[93mchamfer\u001b[0m: \u001b[92m52.903633\u001b[0m \n",
      "\u001b[92m0.08947\u001b[0m \u001b[93mnot_org_label\u001b[0m: \u001b[92m0.875\u001b[0m \u001b[93mchamfer\u001b[0m: \u001b[92m55.57978\u001b[0m \n",
      "\u001b[92m0.09474\u001b[0m \u001b[93mnot_org_label\u001b[0m: \u001b[92m0.875\u001b[0m \u001b[93mchamfer\u001b[0m: \u001b[92m58.269615\u001b[0m \n",
      "\u001b[92m0.10000\u001b[0m \u001b[93mnot_org_label\u001b[0m: \u001b[92m0.75\u001b[0m \u001b[93mchamfer\u001b[0m: \u001b[92m60.985542\u001b[0m \n"
     ]
    }
   ],
   "source": [
    "def num(x):\n",
    "    return x.detach().cpu().numpy()\n",
    "\n",
    "def disp_pt_cloud(x,channal_first = True):\n",
    "    cloud = open3d.geometry.PointCloud()\n",
    "    cloud.points = open3d.utility.Vector3dVector(x)\n",
    "\n",
    "    vis = open3d.visualization.VisualizerWithKeyCallback()\n",
    "    vis.create_window(args.model_name, height=800, width=800, left=200, top=0)\n",
    "    opt = vis.get_render_option().background_color = np.asarray([0, 0, 0])\n",
    "    vis.add_geometry(cloud)\n",
    "    vis.register_key_callback(32, lambda vis: exit())\n",
    "    vis.run()\n",
    "    vis.destroy_window()\n",
    "\n",
    "for eps in np.linspace(0,0.1,num=20):\n",
    "    for pts, gt in testDataLoader:\n",
    "        gt = gt[:, 0].long().cuda()\n",
    "        pts = pts.transpose(2, 1).cuda() # make channal first\n",
    "        pts.requires_grad = True\n",
    "        \n",
    "        softmax, _ = model(pts)\n",
    "        org_pred = softmax.data.max(1)[1]\n",
    "        loss = F.nll_loss(softmax, org_pred)\n",
    "        model.zero_grad()\n",
    "        loss.backward()\n",
    "        pts_grad = pts.grad.data\n",
    "        pts_adv = pts + eps * pts_grad.sign()\n",
    "\n",
    "        chamfer_loss = num(chamfer_batch(pts_adv.transpose(2, 1), pts.transpose(2, 1)))\n",
    "        softmax, _ = model(pts_adv)\n",
    "        adv_pred = softmax.data.max(1)[1]\n",
    "\n",
    "        not_org_label = num((adv_pred == org_pred).double().mean())\n",
    "        log.info(eps,not_org_label=not_org_label, chamfer = chamfer_loss)\n",
    "        break\n",
    "    #disp_pt_cloud(num(pts_adv.detach().transpose(2, 1)[1]))"
   ]
  }
 ],
 "metadata": {
  "kernelspec": {
   "display_name": "Python [conda env:torch] *",
   "language": "python",
   "name": "conda-env-torch-py"
  },
  "language_info": {
   "codemirror_mode": {
    "name": "ipython",
    "version": 3
   },
   "file_extension": ".py",
   "mimetype": "text/x-python",
   "name": "python",
   "nbconvert_exporter": "python",
   "pygments_lexer": "ipython3",
   "version": "3.6.9"
  }
 },
 "nbformat": 4,
 "nbformat_minor": 2
}
