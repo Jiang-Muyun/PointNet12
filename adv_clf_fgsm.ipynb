{
 "cells": [
  {
   "cell_type": "code",
   "execution_count": null,
   "metadata": {},
   "outputs": [],
   "source": [
    "import open3d\n",
    "import argparse\n",
    "import sys\n",
    "sys.path.append('.')\n",
    "import os\n",
    "import time\n",
    "import h5py\n",
    "import datetime\n",
    "import numpy as np\n",
    "from matplotlib import pyplot as plt\n",
    "import torch\n",
    "import torch.nn.parallel\n",
    "import torch.utils.data\n",
    "from torch.utils.data import DataLoader\n",
    "import torch.nn.functional as F\n",
    "from data_utils.ModelNetDataLoader import ModelNetDataLoader, load_data, class_names\n",
    "from pathlib import Path\n",
    "from tqdm import tqdm\n",
    "from utils import test, save_checkpoint, select_avaliable, mkdir\n",
    "import log\n",
    "from model.pointnet2 import PointNet2ClsMsg\n",
    "from model.pointnet import PointNetCls, feature_transform_reguliarzer\n",
    "import colorsys\n",
    "from clf import parse_args, root\n",
    "from adv.chamfer import chamfer_distance_without_batch, chamfer_distance_with_batch"
   ]
  },
  {
   "cell_type": "code",
   "execution_count": null,
   "metadata": {},
   "outputs": [],
   "source": [
    "args = parse_args([])\n",
    "args.pretrain = 'experiment/weights/clf-pointnet-0.89730-0076.pth'\n",
    "test_data, test_label = load_data(root, train = False)\n",
    "testDataset = ModelNetDataLoader(test_data, test_label)\n",
    "testDataLoader = torch.utils.data.DataLoader(testDataset, batch_size=args.batch_size, shuffle=False)\n",
    "\n",
    "log.debug('Building Model',args.model_name)\n",
    "if args.model_name == 'pointnet':\n",
    "    num_class = 40\n",
    "    model = PointNetCls(num_class,args.feature_transform).cuda()  \n",
    "else:\n",
    "    model = PointNet2ClsMsg().cuda()\n",
    "\n",
    "if args.pretrain is None:\n",
    "    log.err('No pretrain model')\n",
    "    exit()\n",
    "\n",
    "log.debug('Loading pretrain model...')\n",
    "checkpoint = torch.load(args.pretrain)\n",
    "model.load_state_dict(checkpoint)\n",
    "model.eval()\n",
    "print('Done')"
   ]
  },
  {
   "cell_type": "code",
   "execution_count": null,
   "metadata": {},
   "outputs": [],
   "source": [
    "num = 20\n",
    "for eps in np.linspace(0,0.1,num=num):\n",
    "    succ, total = 0,0\n",
    "    for pts_ch_last, gt in testDataLoader:\n",
    "        pts_ch_last = pts_ch_last.cuda()\n",
    "        gt = gt[:, 0].long().cuda()\n",
    "        \n",
    "        points = pts_ch_last.transpose(2, 1)\n",
    "        points.requires_grad = True\n",
    "\n",
    "        pred, _ = model(points)\n",
    "        loss = F.nll_loss(pred, gt)\n",
    "        model.zero_grad()\n",
    "        loss.backward()\n",
    "        points_grad = points.grad.data\n",
    "        pts_adv = points + eps * points_grad.sign()\n",
    "        pts_adv_ch_last = pts_adv.transpose(2, 1)\n",
    "\n",
    "        # print(chamfer_distance_with_batch(pts_adv_ch_last, pts_ch_last,False))\n",
    "        \n",
    "        output, _ = model(pts_adv)\n",
    "        adv_chocie = output.data.max(1)[1]\n",
    "\n",
    "        result = gt == adv_chocie\n",
    "        succ += result.sum().cpu().detach().numpy()\n",
    "        total += len(result)\n",
    "\n",
    "    log.info(eps='%.5f'%(eps),accuracy='%.5f%%'%(succ/total * 100))"
   ]
  }
 ],
 "metadata": {
  "kernelspec": {
   "display_name": "Python [conda env:torch] *",
   "language": "python",
   "name": "conda-env-torch-py"
  },
  "language_info": {
   "codemirror_mode": {
    "name": "ipython",
    "version": 3
   },
   "file_extension": ".py",
   "mimetype": "text/x-python",
   "name": "python",
   "nbconvert_exporter": "python",
   "pygments_lexer": "ipython3",
   "version": "3.6.9"
  }
 },
 "nbformat": 4,
 "nbformat_minor": 2
}
