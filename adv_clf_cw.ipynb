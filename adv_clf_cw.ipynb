{
 "cells": [
  {
   "cell_type": "code",
   "execution_count": 1,
   "metadata": {},
   "outputs": [
    {
     "name": "stdout",
     "output_type": "stream",
     "text": [
      "\u001b[93mjob\u001b[0m: \u001b[92mclf\u001b[0m \u001b[93mmodel_name\u001b[0m: \u001b[92mpointnet\u001b[0m \n",
      "\u001b[93mpretrain\u001b[0m: \u001b[92mexperiment/weights/clf-pointnet-0.89730-0076.pth\u001b[0m \n",
      "\u001b[93mbatch_size\u001b[0m: \u001b[92m16\u001b[0m \u001b[93mgpu_count\u001b[0m: \u001b[92m1\u001b[0m \n",
      "\u001b[90mBuilding Model\u001b[0m \u001b[90mpointnet\u001b[0m \n",
      "\u001b[90mLoading pretrain model...\u001b[0m \n"
     ]
    }
   ],
   "source": [
    "import open3d\n",
    "import argparse\n",
    "import sys\n",
    "sys.path.append('.')\n",
    "import os\n",
    "import time\n",
    "import h5py\n",
    "import datetime\n",
    "import numpy as np\n",
    "from matplotlib import pyplot as plt\n",
    "import torch\n",
    "import torch.nn.parallel\n",
    "import torch.nn as nn\n",
    "import torch.utils.data\n",
    "import torch.optim as optim\n",
    "from torch.utils.data import DataLoader\n",
    "import torch.nn.functional as F\n",
    "from data_utils.ModelNetDataLoader import ModelNetDataLoader, load_data, class_names\n",
    "from pathlib import Path\n",
    "from tqdm import tqdm\n",
    "from utils import test, save_checkpoint, select_avaliable, mkdir\n",
    "import log\n",
    "from model.pointnet2 import PointNet2ClsMsg\n",
    "from model.pointnet import PointNetCls, feature_transform_reguliarzer\n",
    "import colorsys\n",
    "from clf import parse_args, root\n",
    "from adv.chamfer import chamfer_batch\n",
    "\n",
    "args = parse_args([])\n",
    "args.pretrain = 'experiment/weights/clf-pointnet-0.89730-0076.pth'\n",
    "args.batch_size = 8\n",
    "test_data, test_label = load_data(root, train = False)\n",
    "testDataset = ModelNetDataLoader(test_data, test_label)\n",
    "testDataLoader = torch.utils.data.DataLoader(testDataset, batch_size=args.batch_size, shuffle=False)\n",
    "\n",
    "log.debug('Building Model',args.model_name)\n",
    "if args.model_name == 'pointnet':\n",
    "    num_class = 40\n",
    "    model = PointNetCls(num_class,args.feature_transform).cuda()  \n",
    "else:\n",
    "    model = PointNet2ClsMsg().cuda()\n",
    "\n",
    "if args.pretrain is None:\n",
    "    log.err('No pretrain model')\n",
    "else:\n",
    "    log.debug('Loading pretrain model...')\n",
    "    checkpoint = torch.load(args.pretrain)\n",
    "    model.load_state_dict(checkpoint)\n",
    "    model.eval()"
   ]
  },
  {
   "cell_type": "code",
   "execution_count": 12,
   "metadata": {},
   "outputs": [
    {
     "name": "stdout",
     "output_type": "stream",
     "text": [
      "  7.20 =  14.39 +   0.00 | not_org_label = 1.00 is_target_label = 0.12\n",
      " 33.48 =   9.62 +  28.67 | not_org_label = 1.00 is_target_label = 0.12\n",
      " 30.28 =   3.92 +  28.31 | not_org_label = 0.38 is_target_label = 0.12\n",
      " 31.92 =   2.44 +  30.70 | not_org_label = 0.38 is_target_label = 0.25\n",
      " 34.75 =   2.00 +  33.75 | not_org_label = 0.12 is_target_label = 0.38\n",
      " 33.75 =   1.49 +  33.01 | not_org_label = 0.25 is_target_label = 0.50\n",
      " 31.76 =   1.09 +  31.21 | not_org_label = 0.25 is_target_label = 0.62\n",
      " 30.56 =   0.91 +  30.11 | not_org_label = 0.38 is_target_label = 0.62\n",
      " 30.31 =   0.83 +  29.89 | not_org_label = 0.12 is_target_label = 0.75\n",
      " 29.98 =   0.74 +  29.61 | not_org_label = 0.25 is_target_label = 0.88\n",
      " 28.83 =   0.70 +  28.48 | not_org_label = 0.12 is_target_label = 1.00\n",
      " 27.44 =   0.75 +  27.06 | not_org_label = 0.12 is_target_label = 0.88\n",
      " 26.31 =   0.60 +  26.01 | not_org_label = 0.12 is_target_label = 1.00\n",
      " 25.76 =   0.63 +  25.44 | not_org_label = 0.12 is_target_label = 1.00\n",
      " 24.97 =   0.65 +  24.64 | not_org_label = 0.12 is_target_label = 1.00\n",
      " 23.99 =   0.67 +  23.65 | not_org_label = 0.12 is_target_label = 1.00\n",
      " 23.14 =   0.60 +  22.84 | not_org_label = 0.12 is_target_label = 1.00\n",
      " 22.60 =   0.59 +  22.31 | not_org_label = 0.12 is_target_label = 1.00\n",
      " 22.01 =   0.51 +  21.75 | not_org_label = 0.12 is_target_label = 1.00\n",
      " 21.35 =   0.57 +  21.07 | not_org_label = 0.12 is_target_label = 1.00\n",
      " 20.73 =   0.55 +  20.46 | not_org_label = 0.12 is_target_label = 1.00\n",
      " 20.15 =   0.61 +  19.85 | not_org_label = 0.25 is_target_label = 0.88\n",
      " 19.50 =   0.47 +  19.26 | not_org_label = 0.12 is_target_label = 1.00\n",
      " 19.02 =   0.47 +  18.79 | not_org_label = 0.12 is_target_label = 1.00\n",
      " 18.55 =   0.50 +  18.30 | not_org_label = 0.12 is_target_label = 1.00\n",
      " 18.08 =   0.44 +  17.86 | not_org_label = 0.12 is_target_label = 1.00\n",
      " 17.76 =   0.48 +  17.52 | not_org_label = 0.12 is_target_label = 1.00\n",
      " 17.30 =   0.51 +  17.04 | not_org_label = 0.12 is_target_label = 1.00\n",
      " 16.82 =   0.48 +  16.58 | not_org_label = 0.12 is_target_label = 1.00\n",
      " 16.59 =   0.50 +  16.34 | not_org_label = 0.12 is_target_label = 1.00\n",
      " 16.31 =   0.46 +  16.08 | not_org_label = 0.12 is_target_label = 1.00\n",
      " 15.91 =   0.44 +  15.69 | not_org_label = 0.12 is_target_label = 1.00\n",
      " 15.66 =   0.52 +  15.40 | not_org_label = 0.12 is_target_label = 1.00\n",
      " 15.49 =   0.67 +  15.15 | not_org_label = 0.12 is_target_label = 0.88\n",
      " 15.18 =   0.51 +  14.92 | not_org_label = 0.12 is_target_label = 1.00\n",
      " 15.06 =   0.49 +  14.81 | not_org_label = 0.12 is_target_label = 1.00\n",
      " 14.81 =   0.48 +  14.57 | not_org_label = 0.12 is_target_label = 1.00\n",
      " 14.60 =   0.47 +  14.36 | not_org_label = 0.12 is_target_label = 1.00\n",
      " 14.41 =   0.50 +  14.16 | not_org_label = 0.12 is_target_label = 1.00\n",
      " 14.17 =   0.46 +  13.94 | not_org_label = 0.12 is_target_label = 1.00\n"
     ]
    }
   ],
   "source": [
    "def num(x):\n",
    "    return x.detach().cpu().numpy()\n",
    "\n",
    "def disp_pt_cloud(x,channal_first = True):\n",
    "    cloud = open3d.geometry.PointCloud()\n",
    "    cloud.points = open3d.utility.Vector3dVector(x)\n",
    "\n",
    "    vis = open3d.visualization.VisualizerWithKeyCallback()\n",
    "    vis.create_window(args.model_name, height=800, width=800, left=200, top=0)\n",
    "    opt = vis.get_render_option().background_color = np.asarray([0, 0, 0])\n",
    "    vis.add_geometry(cloud)\n",
    "    vis.register_key_callback(32, lambda vis: exit())\n",
    "    vis.run()\n",
    "    vis.destroy_window()\n",
    "\n",
    "for pts, gt in testDataLoader:\n",
    "    gt = gt[:, 0].long().cuda()\n",
    "    pts.requires_grad = False\n",
    "    pts = pts.transpose(2, 1).cuda() # make channal first\n",
    "\n",
    "    output, _ = model(pts)\n",
    "    org_pred = output.data.max(1)[1]\n",
    "    target = torch.from_numpy(np.array([0]* args.batch_size)).cuda()\n",
    "    noise = torch.zeros_like(pts, requires_grad=True).cuda()\n",
    "    opt = optim.Adam([noise], lr=0.05, betas=(0.9, 0.999))\n",
    "    # mse_fn = nn.MSELoss()\n",
    "    # loss_l2 = mse_fn(pts_adv, pts)\n",
    "    crossEntropy_fn = nn.CrossEntropyLoss()\n",
    "    \n",
    "    for i in range(40):        \n",
    "        opt.zero_grad()\n",
    "        pts_adv = pts + noise\n",
    "        softmax, _ = model(pts_adv)\n",
    "        loss_cross = crossEntropy_fn(softmax, target)\n",
    "        loss_chamfer = chamfer_batch(pts_adv.transpose(2, 1), pts.transpose(2, 1))\n",
    "        loss = loss_cross*0.5 + loss_chamfer\n",
    "        loss.backward()\n",
    "        opt.step()\n",
    "            \n",
    "        output, _ = model(pts_adv)\n",
    "        adv_chocie = output.data.max(1)[1]\n",
    "        not_org = num((adv_chocie == org_pred).float().mean())\n",
    "        is_target = num((adv_chocie == target).float().mean())\n",
    "        print('%6.2f = %6.2f + %6.2f | not_org = %.2f is_target = %.2f'%\n",
    "              (num(loss), num(loss_cross),num(loss_chamfer), not_org, is_target))\n",
    "        del output,adv_chocie,not_org,is_target\n",
    "        \n",
    "    break"
   ]
  },
  {
   "cell_type": "code",
   "execution_count": 13,
   "metadata": {},
   "outputs": [],
   "source": [
    "# disp_pt_cloud(num(pts.detach().transpose(2, 1)[0]))\n",
    "disp_pt_cloud(num(pts_adv.detach().transpose(2, 1)[1]))"
   ]
  },
  {
   "cell_type": "code",
   "execution_count": 8,
   "metadata": {},
   "outputs": [
    {
     "name": "stdout",
     "output_type": "stream",
     "text": [
      "[ 4  0  2  8 23 37 35 35]\n",
      "[0 0 0 0 0 0 0 0]\n"
     ]
    }
   ],
   "source": [
    "aa, _ = model(pts)\n",
    "bb, _ = model(pts_adv)\n",
    "print(num(aa.data.max(1)[1]))\n",
    "print(num(bb.data.max(1)[1]))"
   ]
  },
  {
   "cell_type": "code",
   "execution_count": null,
   "metadata": {},
   "outputs": [],
   "source": []
  }
 ],
 "metadata": {
  "kernelspec": {
   "display_name": "Python [conda env:torch] *",
   "language": "python",
   "name": "conda-env-torch-py"
  },
  "language_info": {
   "codemirror_mode": {
    "name": "ipython",
    "version": 3
   },
   "file_extension": ".py",
   "mimetype": "text/x-python",
   "name": "python",
   "nbconvert_exporter": "python",
   "pygments_lexer": "ipython3",
   "version": "3.6.9"
  }
 },
 "nbformat": 4,
 "nbformat_minor": 2
}
