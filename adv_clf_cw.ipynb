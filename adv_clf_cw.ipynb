{
 "cells": [
  {
   "cell_type": "code",
   "execution_count": 1,
   "metadata": {},
   "outputs": [
    {
     "name": "stdout",
     "output_type": "stream",
     "text": [
      "\u001b[93mjob\u001b[0m: \u001b[92mclf\u001b[0m \u001b[93mmodel_name\u001b[0m: \u001b[92mpointnet\u001b[0m \n",
      "\u001b[93mpretrain\u001b[0m: \u001b[92mexperiment/weights/clf-pointnet-0.89730-0076.pth\u001b[0m \n",
      "\u001b[93mbatch_size\u001b[0m: \u001b[92m16\u001b[0m \u001b[93mgpu_count\u001b[0m: \u001b[92m1\u001b[0m \n",
      "\u001b[90m/media/james/HDD/James_Least/Large_Dataset/ShapeNet/modelnet40_ply_hdf5_2048/ply_data_test0.h5\u001b[0m\n",
      "\u001b[90m/media/james/HDD/James_Least/Large_Dataset/ShapeNet/modelnet40_ply_hdf5_2048/ply_data_test1.h5\u001b[0m\n",
      "\u001b[90mBuilding Model\u001b[0m \u001b[90mpointnet\u001b[0m \n",
      "\u001b[90mLoading pretrain model...\u001b[0m \n",
      "Done\n"
     ]
    }
   ],
   "source": [
    "import open3d\n",
    "import argparse\n",
    "import sys\n",
    "sys.path.append('.')\n",
    "import os\n",
    "import time\n",
    "import h5py\n",
    "import datetime\n",
    "import numpy as np\n",
    "from matplotlib import pyplot as plt\n",
    "import torch\n",
    "import torch.nn.parallel\n",
    "import torch.nn as nn\n",
    "import torch.utils.data\n",
    "import torch.optim as optim\n",
    "from torch.utils.data import DataLoader\n",
    "import torch.nn.functional as F\n",
    "from data_utils.ModelNetDataLoader import ModelNetDataLoader, load_data, class_names\n",
    "from pathlib import Path\n",
    "from tqdm import tqdm\n",
    "from utils import test, save_checkpoint, select_avaliable, mkdir\n",
    "import log\n",
    "from model.pointnet2 import PointNet2ClsMsg\n",
    "from model.pointnet import PointNetCls, feature_transform_reguliarzer\n",
    "import colorsys\n",
    "from clf import parse_args, root\n",
    "from adv.chamfer import chamfer_batch\n",
    "\n",
    "args = parse_args([])\n",
    "args.pretrain = 'experiment/weights/clf-pointnet-0.89730-0076.pth'\n",
    "args.batch_size = 8\n",
    "test_data, test_label = load_data(root, train = False)\n",
    "testDataset = ModelNetDataLoader(test_data, test_label)\n",
    "testDataLoader = torch.utils.data.DataLoader(testDataset, batch_size=args.batch_size, shuffle=False)\n",
    "\n",
    "log.debug('Building Model',args.model_name)\n",
    "if args.model_name == 'pointnet':\n",
    "    num_class = 40\n",
    "    model = PointNetCls(num_class,args.feature_transform).cuda()  \n",
    "else:\n",
    "    model = PointNet2ClsMsg().cuda()\n",
    "\n",
    "if args.pretrain is None:\n",
    "    log.err('No pretrain model')\n",
    "else:\n",
    "    log.debug('Loading pretrain model...')\n",
    "    checkpoint = torch.load(args.pretrain)\n",
    "    model.load_state_dict(checkpoint)\n",
    "    model.eval()"
   ]
  },
  {
   "cell_type": "code",
   "execution_count": 22,
   "metadata": {},
   "outputs": [
    {
     "name": "stdout",
     "output_type": "stream",
     "text": [
      "  7.20 =  14.39 +   0.00 | not_org_label = 1.00 is_target_label = 0.12\n",
      " 33.48 =   9.62 +  28.67 | not_org_label = 1.00 is_target_label = 0.12\n",
      " 30.28 =   3.92 +  28.31 | not_org_label = 0.38 is_target_label = 0.12\n",
      " 31.92 =   2.44 +  30.70 | not_org_label = 0.38 is_target_label = 0.25\n",
      " 34.75 =   2.00 +  33.75 | not_org_label = 0.12 is_target_label = 0.38\n",
      " 33.75 =   1.49 +  33.01 | not_org_label = 0.25 is_target_label = 0.50\n",
      " 31.76 =   1.09 +  31.21 | not_org_label = 0.25 is_target_label = 0.62\n",
      " 30.56 =   0.91 +  30.11 | not_org_label = 0.38 is_target_label = 0.62\n",
      " 30.31 =   0.83 +  29.89 | not_org_label = 0.12 is_target_label = 0.75\n",
      " 29.98 =   0.74 +  29.61 | not_org_label = 0.25 is_target_label = 0.88\n",
      " 28.83 =   0.70 +  28.48 | not_org_label = 0.12 is_target_label = 1.00\n",
      " 27.43 =   0.75 +  27.06 | not_org_label = 0.12 is_target_label = 0.88\n",
      " 26.29 =   0.60 +  25.99 | not_org_label = 0.12 is_target_label = 1.00\n",
      " 25.76 =   0.63 +  25.44 | not_org_label = 0.12 is_target_label = 1.00\n",
      " 24.95 =   0.66 +  24.62 | not_org_label = 0.12 is_target_label = 1.00\n",
      " 23.95 =   0.64 +  23.63 | not_org_label = 0.12 is_target_label = 1.00\n",
      " 23.12 =   0.60 +  22.82 | not_org_label = 0.12 is_target_label = 1.00\n",
      " 22.58 =   0.61 +  22.28 | not_org_label = 0.12 is_target_label = 1.00\n",
      " 21.99 =   0.52 +  21.73 | not_org_label = 0.12 is_target_label = 1.00\n",
      " 21.34 =   0.54 +  21.07 | not_org_label = 0.12 is_target_label = 1.00\n",
      " 20.70 =   0.53 +  20.43 | not_org_label = 0.12 is_target_label = 1.00\n",
      " 20.13 =   0.61 +  19.82 | not_org_label = 0.12 is_target_label = 1.00\n",
      " 19.49 =   0.51 +  19.23 | not_org_label = 0.12 is_target_label = 1.00\n",
      " 19.03 =   0.51 +  18.78 | not_org_label = 0.12 is_target_label = 1.00\n",
      " 18.60 =   0.54 +  18.33 | not_org_label = 0.12 is_target_label = 1.00\n",
      " 18.19 =   0.43 +  17.98 | not_org_label = 0.12 is_target_label = 1.00\n",
      " 17.74 =   0.49 +  17.50 | not_org_label = 0.12 is_target_label = 1.00\n",
      " 17.31 =   0.53 +  17.05 | not_org_label = 0.12 is_target_label = 1.00\n",
      " 16.93 =   0.49 +  16.68 | not_org_label = 0.12 is_target_label = 1.00\n",
      " 16.71 =   0.50 +  16.46 | not_org_label = 0.12 is_target_label = 1.00\n",
      " 16.33 =   0.46 +  16.09 | not_org_label = 0.12 is_target_label = 1.00\n",
      " 15.94 =   0.50 +  15.69 | not_org_label = 0.12 is_target_label = 1.00\n",
      " 15.70 =   0.51 +  15.45 | not_org_label = 0.12 is_target_label = 1.00\n",
      " 15.52 =   0.64 +  15.20 | not_org_label = 0.12 is_target_label = 0.88\n",
      " 15.26 =   0.52 +  15.01 | not_org_label = 0.12 is_target_label = 1.00\n",
      " 15.15 =   0.45 +  14.92 | not_org_label = 0.12 is_target_label = 1.00\n",
      " 14.89 =   0.45 +  14.66 | not_org_label = 0.12 is_target_label = 1.00\n",
      " 14.67 =   0.44 +  14.45 | not_org_label = 0.12 is_target_label = 1.00\n",
      " 14.58 =   0.47 +  14.35 | not_org_label = 0.12 is_target_label = 1.00\n",
      " 14.30 =   0.46 +  14.07 | not_org_label = 0.12 is_target_label = 1.00\n"
     ]
    }
   ],
   "source": [
    "def num(x):\n",
    "    return x.detach().cpu().numpy()\n",
    "\n",
    "def disp_pt_cloud(x,channal_first = True):\n",
    "    cloud = open3d.geometry.PointCloud()\n",
    "    cloud.points = open3d.utility.Vector3dVector(x)\n",
    "\n",
    "    vis = open3d.visualization.VisualizerWithKeyCallback()\n",
    "    vis.create_window(args.model_name, height=800, width=800, left=200, top=0)\n",
    "    opt = vis.get_render_option().background_color = np.asarray([0, 0, 0])\n",
    "    vis.add_geometry(cloud)\n",
    "    vis.register_key_callback(32, lambda vis: exit())\n",
    "    vis.run()\n",
    "    vis.destroy_window()\n",
    "\n",
    "for pts, gt in testDataLoader:\n",
    "    gt = gt[:, 0].long().cuda()\n",
    "    pts.requires_grad = False\n",
    "    pts = pts.transpose(2, 1).cuda() # make channal first\n",
    "\n",
    "    output, _ = model(pts)\n",
    "    org_pred = softmax.data.max(1)[1]\n",
    "    target = torch.from_numpy(np.array([0]* args.batch_size)).cuda()\n",
    "    noise = torch.zeros_like(pts, requires_grad=True).cuda()\n",
    "    opt = optim.Adam([noise], lr=0.05, betas=(0.9, 0.999))\n",
    "    # mse_fn = nn.MSELoss()\n",
    "    # loss_l2 = mse_fn(pts_adv, pts)\n",
    "    crossEntropy_fn = nn.CrossEntropyLoss()\n",
    "    \n",
    "    for i in range(40):        \n",
    "        opt.zero_grad()\n",
    "        pts_adv = pts + noise\n",
    "        softmax, pred , _ = model(pts_adv)\n",
    "        loss_cross = crossEntropy_fn(softmax, target)\n",
    "        loss_chamfer = chamfer_batch(pts_adv.transpose(2, 1), pts.transpose(2, 1))\n",
    "        loss = loss_cross*0.5 + loss_chamfer\n",
    "        loss.backward()\n",
    "        opt.step()\n",
    "            \n",
    "        output,adv_chocie, _ = model(pts_adv)\n",
    "        not_org_label = (adv_chocie == org_pred).cpu().numpy().mean()\n",
    "        is_target_label = (adv_chocie == target).cpu().numpy().mean()\n",
    "        print('%6.2f = %6.2f + %6.2f | not_org_label = %.2f is_target_label = %.2f'%\n",
    "              (num(loss), num(loss_cross),num(loss_chamfer), not_org_label, is_target_label))\n",
    "        del output,adv_chocie,not_org_label,is_target_label\n",
    "        \n",
    "    break\n",
    "# disp_pt_cloud(num(pts.detach().transpose(2, 1)[0]))\n",
    "disp_pt_cloud(num(pts_adv.detach().transpose(2, 1)[0]))"
   ]
  },
  {
   "cell_type": "code",
   "execution_count": 23,
   "metadata": {},
   "outputs": [
    {
     "name": "stdout",
     "output_type": "stream",
     "text": [
      "tensor([ 4,  0,  2,  8, 23, 37, 35, 35], device='cuda:0')\n",
      "tensor([0, 0, 0, 0, 0, 0, 0, 0], device='cuda:0')\n"
     ]
    }
   ],
   "source": [
    "b, bb, _ = model(pts)\n",
    "a, aa, _ = model(pts_adv)\n",
    "print(bb)\n",
    "print(aa)"
   ]
  },
  {
   "cell_type": "code",
   "execution_count": null,
   "metadata": {},
   "outputs": [],
   "source": []
  }
 ],
 "metadata": {
  "kernelspec": {
   "display_name": "Python [conda env:torch] *",
   "language": "python",
   "name": "conda-env-torch-py"
  },
  "language_info": {
   "codemirror_mode": {
    "name": "ipython",
    "version": 3
   },
   "file_extension": ".py",
   "mimetype": "text/x-python",
   "name": "python",
   "nbconvert_exporter": "python",
   "pygments_lexer": "ipython3",
   "version": "3.6.9"
  }
 },
 "nbformat": 4,
 "nbformat_minor": 2
}
