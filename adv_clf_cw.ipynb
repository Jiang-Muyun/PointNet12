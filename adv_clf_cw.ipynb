{
 "cells": [
  {
   "cell_type": "code",
   "execution_count": 1,
   "metadata": {},
   "outputs": [
    {
     "name": "stdout",
     "output_type": "stream",
     "text": [
      "\u001b[96mpretrain\u001b[0m: \u001b[94mexperiment/weights/clf-pointnet-0.89730-0076.pth\u001b[0m \n",
      "\u001b[96mbatch_size\u001b[0m: \u001b[94m16\u001b[0m \u001b[96mgpu_count\u001b[0m: \u001b[94m1\u001b[0m \n",
      "\u001b[90mBuilding Model\u001b[0m \u001b[90mpointnet\u001b[0m \n",
      "\u001b[90mLoading pretrain model...\u001b[0m \n"
     ]
    }
   ],
   "source": [
    "import open3d\n",
    "import argparse\n",
    "import sys\n",
    "sys.path.append('.')\n",
    "import os\n",
    "import time\n",
    "import h5py\n",
    "import datetime\n",
    "import numpy as np\n",
    "from matplotlib import pyplot as plt\n",
    "import torch\n",
    "import torch.nn.parallel\n",
    "import torch.nn as nn\n",
    "import torch.utils.data\n",
    "import torch.optim as optim\n",
    "from torch.utils.data import DataLoader\n",
    "import torch.nn.functional as F\n",
    "from data_utils.ModelNetDataLoader import ModelNetDataLoader, load_data, class_names\n",
    "from pathlib import Path\n",
    "from tqdm import tqdm\n",
    "from utils import test, save_checkpoint, select_avaliable, mkdir\n",
    "from model.pointnet2 import PointNet2ClsMsg\n",
    "from model.pointnet import PointNetCls, feature_transform_reguliarzer\n",
    "import colorsys\n",
    "from clf import parse_args, root\n",
    "\n",
    "import my_log as log\n",
    "from my_fn import *\n",
    "\n",
    "args = parse_args([])\n",
    "args.pretrain = 'experiment/weights/clf-pointnet-0.89730-0076.pth'\n",
    "args.batch_size = 8\n",
    "test_data, test_label = load_data(root, train = False)\n",
    "testDataset = ModelNetDataLoader(test_data, test_label)\n",
    "testDataLoader = torch.utils.data.DataLoader(testDataset, batch_size=args.batch_size, shuffle=False)\n",
    "\n",
    "log.debug('Building Model',args.model_name)\n",
    "if args.model_name == 'pointnet':\n",
    "    num_class = 40\n",
    "    model = PointNetCls(num_class,args.feature_transform).cuda()  \n",
    "else:\n",
    "    model = PointNet2ClsMsg().cuda()\n",
    "\n",
    "if args.pretrain is None:\n",
    "    log.err('No pretrain model')\n",
    "else:\n",
    "    log.debug('Loading pretrain model...')\n",
    "    checkpoint = torch.load(args.pretrain)\n",
    "    model.load_state_dict(checkpoint)\n",
    "    model.eval()"
   ]
  },
  {
   "cell_type": "code",
   "execution_count": 2,
   "metadata": {},
   "outputs": [
    {
     "name": "stdout",
     "output_type": "stream",
     "text": [
      "\u001b[94m7.1974826\u001b[0m \u001b[96mcross\u001b[0m: \u001b[94m14.394965\u001b[0m \u001b[96mchamfer\u001b[0m: \u001b[94m0.0\u001b[0m \u001b[96mnot_org\u001b[0m: \u001b[94m1.0\u001b[0m \u001b[96mis_target\u001b[0m: \u001b[94m0.125\u001b[0m \n",
      "\u001b[94m33.48239\u001b[0m \u001b[96mcross\u001b[0m: \u001b[94m9.6157875\u001b[0m \u001b[96mchamfer\u001b[0m: \u001b[94m28.674496\u001b[0m \u001b[96mnot_org\u001b[0m: \u001b[94m1.0\u001b[0m \u001b[96mis_target\u001b[0m: \u001b[94m0.125\u001b[0m \n",
      "\u001b[94m30.276712\u001b[0m \u001b[96mcross\u001b[0m: \u001b[94m3.924061\u001b[0m \u001b[96mchamfer\u001b[0m: \u001b[94m28.314682\u001b[0m \u001b[96mnot_org\u001b[0m: \u001b[94m0.375\u001b[0m \u001b[96mis_target\u001b[0m: \u001b[94m0.125\u001b[0m \n",
      "\u001b[94m31.92022\u001b[0m \u001b[96mcross\u001b[0m: \u001b[94m2.4449725\u001b[0m \u001b[96mchamfer\u001b[0m: \u001b[94m30.697733\u001b[0m \u001b[96mnot_org\u001b[0m: \u001b[94m0.375\u001b[0m \u001b[96mis_target\u001b[0m: \u001b[94m0.25\u001b[0m \n",
      "\u001b[94m34.746876\u001b[0m \u001b[96mcross\u001b[0m: \u001b[94m2.0026302\u001b[0m \u001b[96mchamfer\u001b[0m: \u001b[94m33.74556\u001b[0m \u001b[96mnot_org\u001b[0m: \u001b[94m0.125\u001b[0m \u001b[96mis_target\u001b[0m: \u001b[94m0.375\u001b[0m \n",
      "\u001b[94m33.74937\u001b[0m \u001b[96mcross\u001b[0m: \u001b[94m1.4878949\u001b[0m \u001b[96mchamfer\u001b[0m: \u001b[94m33.005424\u001b[0m \u001b[96mnot_org\u001b[0m: \u001b[94m0.25\u001b[0m \u001b[96mis_target\u001b[0m: \u001b[94m0.5\u001b[0m \n",
      "\u001b[94m31.757317\u001b[0m \u001b[96mcross\u001b[0m: \u001b[94m1.0859597\u001b[0m \u001b[96mchamfer\u001b[0m: \u001b[94m31.214336\u001b[0m \u001b[96mnot_org\u001b[0m: \u001b[94m0.25\u001b[0m \u001b[96mis_target\u001b[0m: \u001b[94m0.625\u001b[0m \n",
      "\u001b[94m30.564236\u001b[0m \u001b[96mcross\u001b[0m: \u001b[94m0.9095247\u001b[0m \u001b[96mchamfer\u001b[0m: \u001b[94m30.109474\u001b[0m \u001b[96mnot_org\u001b[0m: \u001b[94m0.375\u001b[0m \u001b[96mis_target\u001b[0m: \u001b[94m0.625\u001b[0m \n",
      "\u001b[94m30.305092\u001b[0m \u001b[96mcross\u001b[0m: \u001b[94m0.83326566\u001b[0m \u001b[96mchamfer\u001b[0m: \u001b[94m29.888458\u001b[0m \u001b[96mnot_org\u001b[0m: \u001b[94m0.125\u001b[0m \u001b[96mis_target\u001b[0m: \u001b[94m0.75\u001b[0m \n",
      "\u001b[94m29.978903\u001b[0m \u001b[96mcross\u001b[0m: \u001b[94m0.7398648\u001b[0m \u001b[96mchamfer\u001b[0m: \u001b[94m29.60897\u001b[0m \u001b[96mnot_org\u001b[0m: \u001b[94m0.25\u001b[0m \u001b[96mis_target\u001b[0m: \u001b[94m0.875\u001b[0m \n",
      "\u001b[94m28.83044\u001b[0m \u001b[96mcross\u001b[0m: \u001b[94m0.70417\u001b[0m \u001b[96mchamfer\u001b[0m: \u001b[94m28.478355\u001b[0m \u001b[96mnot_org\u001b[0m: \u001b[94m0.125\u001b[0m \u001b[96mis_target\u001b[0m: \u001b[94m1.0\u001b[0m \n",
      "\u001b[94m27.439226\u001b[0m \u001b[96mcross\u001b[0m: \u001b[94m0.75322986\u001b[0m \u001b[96mchamfer\u001b[0m: \u001b[94m27.06261\u001b[0m \u001b[96mnot_org\u001b[0m: \u001b[94m0.125\u001b[0m \u001b[96mis_target\u001b[0m: \u001b[94m0.875\u001b[0m \n",
      "\u001b[94m26.308908\u001b[0m \u001b[96mcross\u001b[0m: \u001b[94m0.60402274\u001b[0m \u001b[96mchamfer\u001b[0m: \u001b[94m26.006897\u001b[0m \u001b[96mnot_org\u001b[0m: \u001b[94m0.125\u001b[0m \u001b[96mis_target\u001b[0m: \u001b[94m1.0\u001b[0m \n",
      "\u001b[94m25.760546\u001b[0m \u001b[96mcross\u001b[0m: \u001b[94m0.6344451\u001b[0m \u001b[96mchamfer\u001b[0m: \u001b[94m25.443323\u001b[0m \u001b[96mnot_org\u001b[0m: \u001b[94m0.125\u001b[0m \u001b[96mis_target\u001b[0m: \u001b[94m1.0\u001b[0m \n",
      "\u001b[94m24.967833\u001b[0m \u001b[96mcross\u001b[0m: \u001b[94m0.6501414\u001b[0m \u001b[96mchamfer\u001b[0m: \u001b[94m24.642761\u001b[0m \u001b[96mnot_org\u001b[0m: \u001b[94m0.125\u001b[0m \u001b[96mis_target\u001b[0m: \u001b[94m1.0\u001b[0m \n",
      "\u001b[94m23.986277\u001b[0m \u001b[96mcross\u001b[0m: \u001b[94m0.66641104\u001b[0m \u001b[96mchamfer\u001b[0m: \u001b[94m23.65307\u001b[0m \u001b[96mnot_org\u001b[0m: \u001b[94m0.125\u001b[0m \u001b[96mis_target\u001b[0m: \u001b[94m1.0\u001b[0m \n",
      "\u001b[94m23.143764\u001b[0m \u001b[96mcross\u001b[0m: \u001b[94m0.59980017\u001b[0m \u001b[96mchamfer\u001b[0m: \u001b[94m22.843864\u001b[0m \u001b[96mnot_org\u001b[0m: \u001b[94m0.125\u001b[0m \u001b[96mis_target\u001b[0m: \u001b[94m1.0\u001b[0m \n",
      "\u001b[94m22.601143\u001b[0m \u001b[96mcross\u001b[0m: \u001b[94m0.5851516\u001b[0m \u001b[96mchamfer\u001b[0m: \u001b[94m22.308567\u001b[0m \u001b[96mnot_org\u001b[0m: \u001b[94m0.125\u001b[0m \u001b[96mis_target\u001b[0m: \u001b[94m1.0\u001b[0m \n",
      "\u001b[94m22.005032\u001b[0m \u001b[96mcross\u001b[0m: \u001b[94m0.50809014\u001b[0m \u001b[96mchamfer\u001b[0m: \u001b[94m21.750986\u001b[0m \u001b[96mnot_org\u001b[0m: \u001b[94m0.125\u001b[0m \u001b[96mis_target\u001b[0m: \u001b[94m1.0\u001b[0m \n",
      "\u001b[94m21.353125\u001b[0m \u001b[96mcross\u001b[0m: \u001b[94m0.57270545\u001b[0m \u001b[96mchamfer\u001b[0m: \u001b[94m21.066772\u001b[0m \u001b[96mnot_org\u001b[0m: \u001b[94m0.125\u001b[0m \u001b[96mis_target\u001b[0m: \u001b[94m1.0\u001b[0m \n",
      "\u001b[94m20.731482\u001b[0m \u001b[96mcross\u001b[0m: \u001b[94m0.55119824\u001b[0m \u001b[96mchamfer\u001b[0m: \u001b[94m20.455883\u001b[0m \u001b[96mnot_org\u001b[0m: \u001b[94m0.125\u001b[0m \u001b[96mis_target\u001b[0m: \u001b[94m1.0\u001b[0m \n",
      "\u001b[94m20.152966\u001b[0m \u001b[96mcross\u001b[0m: \u001b[94m0.60910654\u001b[0m \u001b[96mchamfer\u001b[0m: \u001b[94m19.848412\u001b[0m \u001b[96mnot_org\u001b[0m: \u001b[94m0.25\u001b[0m \u001b[96mis_target\u001b[0m: \u001b[94m0.875\u001b[0m \n",
      "\u001b[94m19.497986\u001b[0m \u001b[96mcross\u001b[0m: \u001b[94m0.47321874\u001b[0m \u001b[96mchamfer\u001b[0m: \u001b[94m19.261377\u001b[0m \u001b[96mnot_org\u001b[0m: \u001b[94m0.125\u001b[0m \u001b[96mis_target\u001b[0m: \u001b[94m1.0\u001b[0m \n",
      "\u001b[94m19.021301\u001b[0m \u001b[96mcross\u001b[0m: \u001b[94m0.4712824\u001b[0m \u001b[96mchamfer\u001b[0m: \u001b[94m18.78566\u001b[0m \u001b[96mnot_org\u001b[0m: \u001b[94m0.125\u001b[0m \u001b[96mis_target\u001b[0m: \u001b[94m1.0\u001b[0m \n",
      "\u001b[94m18.551325\u001b[0m \u001b[96mcross\u001b[0m: \u001b[94m0.49999842\u001b[0m \u001b[96mchamfer\u001b[0m: \u001b[94m18.301325\u001b[0m \u001b[96mnot_org\u001b[0m: \u001b[94m0.125\u001b[0m \u001b[96mis_target\u001b[0m: \u001b[94m1.0\u001b[0m \n",
      "\u001b[94m18.077065\u001b[0m \u001b[96mcross\u001b[0m: \u001b[94m0.43664193\u001b[0m \u001b[96mchamfer\u001b[0m: \u001b[94m17.858744\u001b[0m \u001b[96mnot_org\u001b[0m: \u001b[94m0.125\u001b[0m \u001b[96mis_target\u001b[0m: \u001b[94m1.0\u001b[0m \n",
      "\u001b[94m17.762255\u001b[0m \u001b[96mcross\u001b[0m: \u001b[94m0.47757864\u001b[0m \u001b[96mchamfer\u001b[0m: \u001b[94m17.523466\u001b[0m \u001b[96mnot_org\u001b[0m: \u001b[94m0.125\u001b[0m \u001b[96mis_target\u001b[0m: \u001b[94m1.0\u001b[0m \n",
      "\u001b[94m17.298056\u001b[0m \u001b[96mcross\u001b[0m: \u001b[94m0.51406014\u001b[0m \u001b[96mchamfer\u001b[0m: \u001b[94m17.041025\u001b[0m \u001b[96mnot_org\u001b[0m: \u001b[94m0.125\u001b[0m \u001b[96mis_target\u001b[0m: \u001b[94m1.0\u001b[0m \n",
      "\u001b[94m16.817665\u001b[0m \u001b[96mcross\u001b[0m: \u001b[94m0.48391593\u001b[0m \u001b[96mchamfer\u001b[0m: \u001b[94m16.575706\u001b[0m \u001b[96mnot_org\u001b[0m: \u001b[94m0.125\u001b[0m \u001b[96mis_target\u001b[0m: \u001b[94m1.0\u001b[0m \n",
      "\u001b[94m16.591885\u001b[0m \u001b[96mcross\u001b[0m: \u001b[94m0.5006089\u001b[0m \u001b[96mchamfer\u001b[0m: \u001b[94m16.34158\u001b[0m \u001b[96mnot_org\u001b[0m: \u001b[94m0.125\u001b[0m \u001b[96mis_target\u001b[0m: \u001b[94m1.0\u001b[0m \n",
      "\u001b[94m16.308083\u001b[0m \u001b[96mcross\u001b[0m: \u001b[94m0.46107662\u001b[0m \u001b[96mchamfer\u001b[0m: \u001b[94m16.077545\u001b[0m \u001b[96mnot_org\u001b[0m: \u001b[94m0.125\u001b[0m \u001b[96mis_target\u001b[0m: \u001b[94m1.0\u001b[0m \n",
      "\u001b[94m15.909412\u001b[0m \u001b[96mcross\u001b[0m: \u001b[94m0.43624413\u001b[0m \u001b[96mchamfer\u001b[0m: \u001b[94m15.69129\u001b[0m \u001b[96mnot_org\u001b[0m: \u001b[94m0.125\u001b[0m \u001b[96mis_target\u001b[0m: \u001b[94m1.0\u001b[0m \n",
      "\u001b[94m15.660915\u001b[0m \u001b[96mcross\u001b[0m: \u001b[94m0.517298\u001b[0m \u001b[96mchamfer\u001b[0m: \u001b[94m15.4022665\u001b[0m \u001b[96mnot_org\u001b[0m: \u001b[94m0.125\u001b[0m \u001b[96mis_target\u001b[0m: \u001b[94m1.0\u001b[0m \n",
      "\u001b[94m15.486323\u001b[0m \u001b[96mcross\u001b[0m: \u001b[94m0.6732979\u001b[0m \u001b[96mchamfer\u001b[0m: \u001b[94m15.149674\u001b[0m \u001b[96mnot_org\u001b[0m: \u001b[94m0.125\u001b[0m \u001b[96mis_target\u001b[0m: \u001b[94m0.875\u001b[0m \n",
      "\u001b[94m15.176229\u001b[0m \u001b[96mcross\u001b[0m: \u001b[94m0.51290077\u001b[0m \u001b[96mchamfer\u001b[0m: \u001b[94m14.919778\u001b[0m \u001b[96mnot_org\u001b[0m: \u001b[94m0.125\u001b[0m \u001b[96mis_target\u001b[0m: \u001b[94m1.0\u001b[0m \n",
      "\u001b[94m15.055667\u001b[0m \u001b[96mcross\u001b[0m: \u001b[94m0.48753935\u001b[0m \u001b[96mchamfer\u001b[0m: \u001b[94m14.811897\u001b[0m \u001b[96mnot_org\u001b[0m: \u001b[94m0.125\u001b[0m \u001b[96mis_target\u001b[0m: \u001b[94m1.0\u001b[0m \n",
      "\u001b[94m14.8076725\u001b[0m \u001b[96mcross\u001b[0m: \u001b[94m0.48029307\u001b[0m \u001b[96mchamfer\u001b[0m: \u001b[94m14.567526\u001b[0m \u001b[96mnot_org\u001b[0m: \u001b[94m0.125\u001b[0m \u001b[96mis_target\u001b[0m: \u001b[94m1.0\u001b[0m \n",
      "\u001b[94m14.595294\u001b[0m \u001b[96mcross\u001b[0m: \u001b[94m0.4723838\u001b[0m \u001b[96mchamfer\u001b[0m: \u001b[94m14.359102\u001b[0m \u001b[96mnot_org\u001b[0m: \u001b[94m0.125\u001b[0m \u001b[96mis_target\u001b[0m: \u001b[94m1.0\u001b[0m \n",
      "\u001b[94m14.411657\u001b[0m \u001b[96mcross\u001b[0m: \u001b[94m0.49564707\u001b[0m \u001b[96mchamfer\u001b[0m: \u001b[94m14.163834\u001b[0m \u001b[96mnot_org\u001b[0m: \u001b[94m0.125\u001b[0m \u001b[96mis_target\u001b[0m: \u001b[94m1.0\u001b[0m \n",
      "\u001b[94m14.174688\u001b[0m \u001b[96mcross\u001b[0m: \u001b[94m0.4638124\u001b[0m \u001b[96mchamfer\u001b[0m: \u001b[94m13.942782\u001b[0m \u001b[96mnot_org\u001b[0m: \u001b[94m0.125\u001b[0m \u001b[96mis_target\u001b[0m: \u001b[94m1.0\u001b[0m \n"
     ]
    }
   ],
   "source": [
    "def num(x):\n",
    "    return x.detach().cpu().numpy()\n",
    "\n",
    "def disp_pt_cloud(x,channal_first = True):\n",
    "    cloud = open3d.geometry.PointCloud()\n",
    "    cloud.points = open3d.utility.Vector3dVector(x)\n",
    "\n",
    "    vis = open3d.visualization.VisualizerWithKeyCallback()\n",
    "    vis.create_window(args.model_name, height=800, width=800, left=200, top=0)\n",
    "    opt = vis.get_render_option().background_color = np.asarray([0, 0, 0])\n",
    "    vis.add_geometry(cloud)\n",
    "    vis.register_key_callback(32, lambda vis: exit())\n",
    "    vis.run()\n",
    "    vis.destroy_window()\n",
    "\n",
    "for pts, gt in testDataLoader:\n",
    "    gt = gt[:, 0].long().cuda()\n",
    "    pts.requires_grad = False\n",
    "    pts = pts.transpose(2, 1).cuda() # make channal first\n",
    "\n",
    "    output, _ = model(pts)\n",
    "    org_pred = output.data.max(1)[1]\n",
    "    target = torch.from_numpy(np.array([0]* args.batch_size)).cuda()\n",
    "    noise = torch.zeros_like(pts, requires_grad=True).cuda()\n",
    "    opt = optim.Adam([noise], lr=0.05, betas=(0.9, 0.999))\n",
    "    # mse_fn = nn.MSELoss()\n",
    "    # loss_l2 = mse_fn(pts_adv, pts)\n",
    "    crossEntropy_fn = nn.CrossEntropyLoss()\n",
    "    \n",
    "    for i in range(40):        \n",
    "        opt.zero_grad()\n",
    "        pts_adv = pts + noise\n",
    "        softmax, _ = model(pts_adv)\n",
    "        loss_cross = crossEntropy_fn(softmax, target)\n",
    "        loss_chamfer = chamfer_batch(pts_adv.transpose(2, 1), pts.transpose(2, 1))\n",
    "        loss = loss_cross*0.5 + loss_chamfer\n",
    "        loss.backward()\n",
    "        opt.step()\n",
    "            \n",
    "        output, _ = model(pts_adv)\n",
    "        adv_chocie = output.data.max(1)[1]\n",
    "        not_org = num((adv_chocie == org_pred).float().mean())\n",
    "        is_target = num((adv_chocie == target).float().mean())\n",
    "        log.info(num(loss),cross=num(loss_cross),chamfer=num(loss_chamfer),not_org=not_org, is_target=is_target)\n",
    "        del output,adv_chocie,not_org,is_target\n",
    "        \n",
    "    break"
   ]
  },
  {
   "cell_type": "code",
   "execution_count": 8,
   "metadata": {},
   "outputs": [],
   "source": [
    "# disp_pt_cloud(num(pts.detach().transpose(2, 1)[0]))\n",
    "disp_pt_cloud(num(pts_adv.detach().transpose(2, 1)[0]))"
   ]
  },
  {
   "cell_type": "code",
   "execution_count": 5,
   "metadata": {},
   "outputs": [
    {
     "name": "stdout",
     "output_type": "stream",
     "text": [
      "[ 4  0  2  8 23 37 35 35]\n",
      "[0 0 0 0 0 0 0 0]\n"
     ]
    }
   ],
   "source": [
    "aa, _ = model(pts)\n",
    "bb, _ = model(pts_adv)\n",
    "print(num(aa.data.max(1)[1]))\n",
    "print(num(bb.data.max(1)[1]))"
   ]
  }
 ],
 "metadata": {
  "kernelspec": {
   "display_name": "Python [conda env:torch] *",
   "language": "python",
   "name": "conda-env-torch-py"
  },
  "language_info": {
   "codemirror_mode": {
    "name": "ipython",
    "version": 3
   },
   "file_extension": ".py",
   "mimetype": "text/x-python",
   "name": "python",
   "nbconvert_exporter": "python",
   "pygments_lexer": "ipython3",
   "version": "3.6.9"
  }
 },
 "nbformat": 4,
 "nbformat_minor": 2
}
