{
 "cells": [
  {
   "cell_type": "code",
   "execution_count": 1,
   "metadata": {},
   "outputs": [],
   "source": [
    "import open3d\n",
    "import argparse\n",
    "import os\n",
    "import time\n",
    "import h5py\n",
    "import datetime\n",
    "import numpy as np\n",
    "from matplotlib import pyplot as plt\n",
    "import torch\n",
    "import torch.nn.parallel\n",
    "import torch.utils.data\n",
    "from torch.utils.data import DataLoader\n",
    "from utils import to_categorical\n",
    "from collections import defaultdict\n",
    "from torch.autograd import Variable\n",
    "import torch.nn.functional as F\n",
    "from pathlib import Path\n",
    "import my_log as log\n",
    "from tqdm import tqdm\n",
    "\n",
    "from utils import test_semseg, select_avaliable, mkdir, auto_complete\n",
    "from model.pointnet import PointNetSeg, feature_transform_reguliarzer\n",
    "from model.pointnet2 import PointNet2SemSeg\n",
    "\n",
    "from data_utils.SemKITTIDataLoader import SemKITTIDataLoader, load_data\n",
    "from data_utils.SemKITTIDataLoader import num_classes, label_id_to_name"
   ]
  },
  {
   "cell_type": "code",
   "execution_count": 3,
   "metadata": {},
   "outputs": [
    {
     "name": "stderr",
     "output_type": "stream",
     "text": [
      "usage: PointNet [-h] [--model_name MODEL_NAME] [--mode MODE]\n",
      "                [--batch_size BATCH_SIZE] [--workers WORKERS] [--epoch EPOCH]\n",
      "                [--pretrain PRETRAIN] [--gpu GPU]\n",
      "                [--learning_rate LEARNING_RATE] [--decay_rate DECAY_RATE]\n",
      "                [--optimizer OPTIMIZER] [--augment]\n",
      "PointNet: error: unrecognized arguments: -f /home/james/.local/share/jupyter/runtime/kernel-e70c947b-5a0f-4412-b190-f6d11c3eea1c.json\n"
     ]
    },
    {
     "ename": "SystemExit",
     "evalue": "2",
     "output_type": "error",
     "traceback": [
      "An exception has occurred, use %tb to see the full traceback.\n",
      "\u001b[0;31mSystemExit\u001b[0m\u001b[0;31m:\u001b[0m 2\n"
     ]
    }
   ],
   "source": [
    "def parse_args(manual = None):\n",
    "    parser = argparse.ArgumentParser('PointNet')\n",
    "    parser.add_argument('--model_name', type=str, default='pointnet', help='pointnet or pointnet2')\n",
    "    parser.add_argument('--mode', default='train', help='train or eval')\n",
    "    parser.add_argument('--batch_size', type=int, default=0, help='input batch size')\n",
    "    parser.add_argument('--workers', type=int, default=6, help='number of data loading workers')\n",
    "    parser.add_argument('--epoch', type=int, default=200, help='number of epochs for training')\n",
    "    parser.add_argument('--pretrain', type=str, default = None, help='whether use pretrain model')\n",
    "    parser.add_argument('--gpu', type=str, default='0', help='specify gpu device')\n",
    "    parser.add_argument('--learning_rate', type=float, default=0.001, help='learning rate for training')\n",
    "    parser.add_argument('--decay_rate', type=float, default=1e-4, help='weight decay')\n",
    "    parser.add_argument('--optimizer', type=str, default='Adam', help='type of optimizer')\n",
    "    parser.add_argument('--augment', default=False, action='store_true', help=\"Enable data augmentation\")\n",
    "    return parser.parse_args(None)\n",
    "\n",
    "# args = parse_args()\n",
    "# args.pretrain = 'experiment/kitti_semseg/pointnet/kitti_semseg-pointnet-0.53106-0053.pth'\n",
    "# args.model_name = 'pointnet'\n",
    "# _,_,test_data, test_label = load_data(root, train = False)\n",
    "# test_dataset = SemKITTIDataLoader(test_data, test_label)\n",
    "# testdataloader = DataLoader(test_dataset, batch_size=args.batch_size, shuffle=False, num_workers=args.workers)\n",
    "\n",
    "# log.debug('Building Model', args.model_name)\n",
    "# if args.model_name == 'pointnet':\n",
    "#     model = PointNetSeg(num_classes, input_dims = 4, feature_transform=True)\n",
    "# else:\n",
    "#     model = PointNet2SemSeg(num_classes)\n",
    "\n",
    "# device_ids = [int(x) for x in args.gpu.split(',')]\n",
    "# torch.backends.cudnn.benchmark = True\n",
    "# model.cuda(device_ids[0])\n",
    "# model = torch.nn.DataParallel(model, device_ids=device_ids)\n",
    "# log.debug('Using DataParallel:',device_ids)\n",
    "\n",
    "# if args.pretrain is None:\n",
    "#     log.err('No pretrain model')\n",
    "#     return\n",
    "\n",
    "# log.debug('Loading pretrain model...')\n",
    "# checkpoint = torch.load(args.pretrain)\n",
    "# model.load_state_dict(checkpoint)\n",
    "# model.cuda()"
   ]
  }
 ],
 "metadata": {
  "kernelspec": {
   "display_name": "Python [conda env:torch] *",
   "language": "python",
   "name": "conda-env-torch-py"
  },
  "language_info": {
   "codemirror_mode": {
    "name": "ipython",
    "version": 3
   },
   "file_extension": ".py",
   "mimetype": "text/x-python",
   "name": "python",
   "nbconvert_exporter": "python",
   "pygments_lexer": "ipython3",
   "version": "3.6.9"
  }
 },
 "nbformat": 4,
 "nbformat_minor": 2
}
