{
 "cells": [
  {
   "cell_type": "code",
   "execution_count": 1,
   "metadata": {},
   "outputs": [],
   "source": [
    "import os\n",
    "import numpy as np\n",
    "import torch\n",
    "import matplotlib.pyplot as plt\n",
    "from torch.autograd import Variable\n",
    "from tqdm import tqdm\n",
    "from collections import defaultdict\n",
    "import datetime\n",
    "import multiprocessing\n",
    "import pandas as pd\n",
    "import torch.nn.functional as F\n",
    "import sys\n",
    "import my_log as log\n",
    "import time"
   ]
  },
  {
   "cell_type": "code",
   "execution_count": 22,
   "metadata": {},
   "outputs": [
    {
     "name": "stdout",
     "output_type": "stream",
     "text": [
      "torch.Size([12, 6000, 6]) torch.Size([12, 6000, 1])\n"
     ]
    }
   ],
   "source": [
    "pred = np.load('experiment/tmp.npz')['pred']\n",
    "target = np.load('experiment/tmp.npz')['target']\n",
    "\n",
    "pred = torch.from_numpy(pred).cuda()\n",
    "target = torch.from_numpy(target).cuda()\n",
    "print(pred.shape, target.shape)"
   ]
  },
  {
   "cell_type": "code",
   "execution_count": 28,
   "metadata": {},
   "outputs": [
    {
     "name": "stdout",
     "output_type": "stream",
     "text": [
      "[[ 0.         12.          0.        ]\n",
      " [ 0.         12.          0.        ]\n",
      " [12.         12.          0.        ]\n",
      " [ 0.         12.          0.        ]\n",
      " [ 0.         12.          0.        ]\n",
      " [ 4.34133333 12.          0.        ]]\n",
      "[[ 0.         12.          0.        ]\n",
      " [ 0.         12.          0.        ]\n",
      " [12.         12.          0.        ]\n",
      " [ 0.         12.          0.        ]\n",
      " [ 0.         12.          0.        ]\n",
      " [ 4.34133339 12.          0.        ]]\n"
     ]
    }
   ],
   "source": [
    "def compute_cat_iou(pred, target, num_classes ,iou_tabel):\n",
    "    iou_list = []\n",
    "    target = target.cpu().data.numpy()\n",
    "    for j in range(pred.size(0)):\n",
    "        batch_pred = pred[j]\n",
    "        batch_target = target[j]\n",
    "        batch_choice = batch_pred.data.max(1)[1].cpu().data.numpy()\n",
    "        for cat in range(num_classes):\n",
    "            # intersection = np.sum((batch_target == cat) & (batch_choice == cat))\n",
    "            # union = float(np.sum((batch_target == cat) | (batch_choice == cat)))\n",
    "            # iou = intersection/union if not union ==0 else 1\n",
    "            I = np.sum(np.logical_and(batch_choice == cat, batch_target == cat))\n",
    "            U = np.sum(np.logical_or(batch_choice == cat, batch_target == cat))\n",
    "            if U == 0:\n",
    "                iou = 1  # If the union of groundtruth and prediction points is empty, then count part IoU as 1\n",
    "            else:\n",
    "                iou = I / float(U)\n",
    "            iou_tabel[cat,0] += iou\n",
    "            iou_tabel[cat,1] += 1\n",
    "            iou_list.append(iou)\n",
    "    return iou_tabel,iou_list\n",
    "\n",
    "def calc_categorical_iou(pred, target, num_classes ,iou_tabel):\n",
    "    iou_list = []\n",
    "    B = pred.size[0]\n",
    "    choice = pred.max(2)[1]\n",
    "    target.squeeze_(-1)\n",
    "    for cat in range(num_classes):\n",
    "        I = torch.sum((choice == cat) & (target == cat))\n",
    "        U = torch.sum((choice == cat) | (target == cat))\n",
    "        if U == 0:\n",
    "            iou = 1\n",
    "        else:\n",
    "            iou = (I / U.float()).cpu().numpy()\n",
    "        iou_tabel[cat,0] += iou*12\n",
    "        iou_tabel[cat,1] += 1*12\n",
    "        iou_list.append(iou)\n",
    "    return iou_tabel, iou_list\n",
    "\n",
    "print(compute_cat_iou(pred, target, 6, np.zeros((6,3)))[0])\n",
    "print(calc_categorical_iou(pred, target, 6, np.zeros((6,3)))[0])"
   ]
  }
 ],
 "metadata": {
  "kernelspec": {
   "display_name": "Python [conda env:torch] *",
   "language": "python",
   "name": "conda-env-torch-py"
  },
  "language_info": {
   "codemirror_mode": {
    "name": "ipython",
    "version": 3
   },
   "file_extension": ".py",
   "mimetype": "text/x-python",
   "name": "python",
   "nbconvert_exporter": "python",
   "pygments_lexer": "ipython3",
   "version": "3.6.9"
  }
 },
 "nbformat": 4,
 "nbformat_minor": 2
}
